{
 "cells": [
  {
   "cell_type": "markdown",
   "metadata": {},
   "source": [
    "# Exploratory Data Analysis for the Dengue Serotype Classifier\n",
    "\n",
    "The aim of this notebook is to identify Dengue serotypes from genomic sequence fragments \n",
    "\n",
    "This notebook is organized in the following sections:\n",
    "\n",
    "* Data preprocessing\n",
    "* Preprocessing labeled data\n",
    "* Exploratory Data Analysis (ToDo)"
   ]
  },
  {
   "cell_type": "code",
   "execution_count": 17,
   "metadata": {
    "collapsed": true
   },
   "outputs": [],
   "source": [
    "import pandas as pd\n",
    "import re"
   ]
  },
  {
   "cell_type": "markdown",
   "metadata": {},
   "source": [
    "## Preprocessing\n",
    "\n",
    "In order to put clean data into the classifier, we start by getting sequences and descriptions for each sequence"
   ]
  },
  {
   "cell_type": "markdown",
   "metadata": {},
   "source": [
    "__Load the data__"
   ]
  },
  {
   "cell_type": "code",
   "execution_count": 2,
   "metadata": {
    "collapsed": true
   },
   "outputs": [],
   "source": [
    "datafile = open('../data/all_den_proteinE.fasta', 'r')"
   ]
  },
  {
   "cell_type": "code",
   "execution_count": 14,
   "metadata": {
    "collapsed": true
   },
   "outputs": [],
   "source": [
    "data = ''\n",
    "\n",
    "with open('../data/all_den_proteinE.fasta', 'r') as file:\n",
    "    data = file.read()"
   ]
  },
  {
   "cell_type": "code",
   "execution_count": 23,
   "metadata": {
    "scrolled": true
   },
   "outputs": [
    {
     "name": "stdout",
     "output_type": "stream",
     "text": [
      ">KR919614.1 Dengue virus 1 isolate GZ2014014 envelope gene, partial cds\n",
      "ATAGGCAACAGAGACTTCGTTGAAGGACTGTCAGGAGCAACATGGGTGGATGTGGTACTGGAGCATGGAA\n",
      "GCTGTGTCACCACCATGGCAAAGAATAAACCAACATTGGACATTGAACTCTTGAAGACGGAGGTCACGAA\n",
      "CCCTGCCGTCTTGCGCAAACTGTGCATTGAAGCTAAAATATCAAACACCACCACCGATTCAAGATGTCCA\n",
      "ACACAAGGAGAAGCTACACTGGTGGAAGAACAAGACGCGAACTTTGTGTGTCGACGAACATTCGTGGACA\n",
      "GAGGCTGGGGTAATGGTTGTGGACTATTCGGGAAGGGAAGCTTACTAACGTGTGCTAAGTTTAAGTGTGT\n",
      "GACAAAACTTGAAGGAAAGATAGTTCAATATGAAAACTTAAAATATTCGGTGATAGTCACTGTCCACACT\n",
      "GGGGACCAGCACCAGGTAGGAAATGAGACTACAGAACATGGAACAATTGCAACCATAACACCTCAAGCTC\n",
      "CCACGTCGGAAATACAGCTGACTGACTACGGAGCCCTTACATTGGACTGCTCACCTAGAACAGGGCTGGA\n",
      "CTTTAATGAGATGGTGCTGTTGACAATGAAAGAAAAATCATGGCTTGTCCACAAACAATGGTTTCTAGAC\n",
      "TTACCATTACCTTGGACCTCGGGGGCTTCAACATCTCAAGAGACTTGGAACAGACAAGATCTGCTGGTCA\n",
      "CGTTTAAGACAGCTCATGCAAAGAAGCAGGAAGTAGTCGTACTGGGGTCACAAGAAGGAGCAATGCACAC\n",
      "TGCGTTGACTGGGGCGACAGAAATCCAGACGTCAGGAACGACGACAATCCTCGCAGGACACCTGAAATGT\n",
      "AGACTGAAAATGGATAAACTGACTTTAAAAGGGGTGTCATATGTGATGTGCACAGGCTCATTTAAGCTAG\n",
      "AGAAGGAAGTGGCTGAGACCCAGCATGGAACTGTCCTAGTGCAGGTTAAATATGAAGGAACAGATGCACC\n",
      "ATGCAAGATTCCAATTTCAACCCAAGATGAGAAAGGAGTGACCCAGAATGGGAGACTGATAACAGCCAAT\n",
      "CCCATAGTTACTGACAAAGAAAAACCAGTCAACATTGAAACAGAACCACCCTTTGGTGAGAGCTACATCG\n",
      "TGATAGGGGCGGGTGAAAAAGCTTTGAAACTAAGCTGGTTTAAGAAAGGAAGCAGCATAGGGAAAATGTT\n",
      "CGAAGCCACCGCCCGAGGAGCACGAAGGATGGCTATCCTGGGAGACACAGCATGGGACTTCGGTTCCATA\n",
      "GGAGGGGTGTTCACATCTGTGGGAAAATTGGTACACCAGGTTTCTGGGACCGCATATGGGGTCCTGTTCA\n",
      "GCGGTGTTTCTTGGACCATGAAAATAGGAATAGGGATTCTGCTGACATGGCTAGGATTGAATTCAAGGAG\n",
      "CACGTCACTCTCGATGACGTGCATTGCAGTTGGCATGGTCACACTGTACCTAGGAGTCATGGTTCAAGCG\n",
      "\n",
      ">KR919613.1 Dengue virus 1 isolate GZ2014013 envelope gene, partial cds\n",
      "ATAGGCAACAGAGACTTCGTGGAAGGACTGTCAGGAGCAACTTGGGTAGATGTGGTGCTGGAACATGGAA\n",
      "GTTGCGTCACTACCATGGCAAAAGACAGACCAACATTGGACATTGAACTCTTGAAGACGGAAGTCACAAA\n",
      "CCCTGCCGTCCTGCGCAAACTGTGCATTGAAGCTAAAATATCAAACACCACCACCGACTCAAGATGTCCA\n",
      "ACACAAGGAGAAGCCACACTGGTGGAAGAACAAGACGCGAATTTTGTGTGTCGACGAACGTTTGTGGATA\n",
      "GAGGCTGGGGCAATGGCTGTGGGCTCTTCGGAAAAGGAAGCCTTATAGCGTGTGCTAAGTTCAAGTGTGT\n",
      "GACAAAATTGGAAGGAAAAATAGTTCAATATGAAAACTTGAAATATTCAGTAATTGTCACCGTCCACACT\n",
      "GGAGACCAGCACCAAGTGGGAAATGAAAGCACAGAACATGGGACAACTGCAACTATAACACCTCAAGCTC\n",
      "CCACGACGGAAATACAGCTGACCGACTACGGAGCTCTTACACTGGATTGTTCACCTAGAACAGGACTAGA\n",
      "CTTTAATGAAATGGTGTTGTTGACAATGAAAGAAAAATCATGGCTAGTCCACAAACAATGGTTTCTAGAC\n",
      "CTACCACTGCCTTGGACCTCGGGAGCCTCAACATCACAAGAAACTTGGAACAGACAAGATTTGCTGGTGA\n",
      "CATTTAAGACAGCTCATGCAAAGAAGCAGGAAGTAGTTGTACTAGGATCACAAGAAGGAGCAATGCACAC\n",
      "TGCGTTGACCGGAGCGACAGAAATCCAAACGTCTGGAACGACAACAATTTTTGCAGGACATTTGAAATGT\n",
      "AGACTAAAGATGGACAAACTGACTCTAAAAGGAATGTCATATGTGATGTGCACAGGCTCATTCAAGCTAG\n",
      "AGAAAGAAGTGGCTGAGACCCAGCATGGAACCGTTCTAGTGCAGATTAAATACGAAGGAACAGATGCACC\n",
      "ATGCAAGATTCCTTTTTCGACCCAAGATGAAAAAGGAGTAACTCAGAATGGGAGATTGATAACAGCCAAC\n",
      "CCCATAGTTACTGACAAAGAAAAGCCAGTCAACATTGAGGCGGAACCGCCTTTTGGTGAGAGTTACATTG\n",
      "TGATAGGAGCAGGTGAAAAAGCTTTGAAACTAAGCTGGTTCAAGAAAGGAAGTAGCATAGGGAAAATGTT\n",
      "TGAGGCAACTGCCAGAGGAGCACGAAGGATGGCCATACTGGGAGACACCGCATGGGACTTTGGTTCTATA\n",
      "GGAGGAGTGTTCACGTCTGTTGGAAAATTAGTACACCAGATTTTTGGAACTGCATATGGGGTTTTGTTCA\n",
      "GCGGTGTTTCCTGGACCATGAAAATAGGAATAGGGGTTCTGCTGACATGGCTAGGATTAAACTCAAGGAG\n",
      "CACGTCCCTTTCGATGACGTGCATTGCAGTTGGCCTAGTAACGCTATACTTAGGAGTCATGGTTCAGGCG\n",
      "\n",
      ">JN544408.1 Dengue virus 1 isolate SG(EHI)D1/21586Y11 envelope protein gene, partial cds\n",
      "ATGCGGTGCGTGGGAATAGGCAACAGAGACTTCGTTGAAGGACTGTCAGGAGCAACATGGGTGGATGTGG\n",
      "TACTGGAGCATGGAAGCTGTGTCACCACCATGGCAAAAAATAAACCAACATTGGACATTGAACTCTTGAA\n",
      "GACGGAGGTCACGAACCCTGCCGTCTTGCGCAAACTGTGCATTGAAGCTAAAATATCAAACACCACTACC\n",
      "GATTCAAGATGTCCAACACAAGGAGAAGCTACACTGGTGGAAGAACAAGACGCGAACTTTGTGTGTCGAC\n",
      "GAACATTCGTGGACAGAGGCTGGGGTAATGGTTGTGGACTATTCGGGAAGGGAAGCTTACTAACGTGTGC\n",
      "TAAGTTTAAGTGTGTGACAAAACTTGAAGGAAAGACAGTTCAATATGAAAACTTAAAATATTCGGTGATA\n",
      "GTCACTGTCCACACTGGGGACCAGCACCAGGTAGGAAATGAGACTACAGAACATGGAACAATTGCAACCA\n",
      "TAACACCTCAAGCTCCCACGTCGGAAATACAGCTGACTGACTACGGAGCCCTTACATTGGACTGCTCACC\n",
      "TAGAACAGGGCTGGACTTTAATGAGATGGTGCTGTTGACAATGAAAGAAAAATCATGGCTTGTCCACAAA\n",
      "CAATGGTTTCTAGACTTACCATTGCCTTGGACCTCGGGGGCTTCAACATCTCAAGAGACTTGGAACAGAC\n",
      "AAGATCTGTTGGTCACATTCAAGACAGCTCATGCAAAGAAGCAGGAAGTAGTCGTACTGGGGTCACAAGA\n",
      "AGGAGCAATGCACACTGCGTTGACTGGGGCGACAGAAATCCAGACGTCAGGAACGACGACAATCTTCGCA\n",
      "GGACACCTGAAATGTAGACTAAAAATGGATAAACTGACTCTAAAAGGGGTGTCATATGTGATGTGCACAG\n",
      "GCTCATTTAAGCTAGAGAAGGAAGTGGCTGAGACCCAGCATGGAACTGTCCTAGTGCAGGTTAAATATGA\n",
      "AGGAACAGATGCACCATGCAAGATTCCAATTTCAACCCAAGATGAGAAAGGAGTGACCCAGAATGGGAGA\n",
      "TTGATAACAGCCAATCCCATAGTTACTGACAAAGAAAAACCAGTCAACATTGAAACAGAACCACCCTTTG\n",
      "GTGAGAGCTACATCGTGATAGGGGCGGGTGAAAAAGCTTTGAAACTAAGCTGGTTCAAGAAAGGAAGCAG\n",
      "CATAGGGAAAATGTTCGAAGCCACCGCCCGAGGAGCACGAAGGATGGCTATCCTGGGAGACACAGCATGG\n",
      "GACTTCGGTTCCATAGGAGGGGTGTTCACATCTGTGGGAAAATTGGTACACCAGGTTTTTGGAACCGCAT\n",
      "ATGGGGTCCTGTTCAGCGGTGTTTCTTGGACCATGAAAATAGGAATAGGGATTCTGCTGACATGGCTAGG\n",
      "ATTGAATTCAAGGAGCACGTCACTCTCGATGACGTGCATTGCAGTTGGCATGGTCACACTGTACCTAGGA\n",
      "GTCATGGTTCAAGCG\n",
      "\n",
      ">JN544406.1 Dengue virus 1 isolate SG(EHI)D1/14805Y11 envelope protein gene, partial cds\n",
      "ATGCGGTGCGTGGGAATAGGCAACAGAGACTTCGTTGAAGGACTGTCAGGAGCAACATGGGTGGATGTGG\n",
      "TACTGGAGCATGGAAGCTGTGTCACCACCATGGCAAAAAATAAACCAACATTGGACATTGAACTCTTGAA\n",
      "GACGGAGGTCACGAACCCTGCCGTCTTGCGCAAACTGTGCATTGAAGCTAAAATATCAAACACCACTACC\n",
      "GATTCAAGATGTCCAACACAAGGAGAAGCTACACTGGTGGAAGAACAAGACGCGAACTTTGTGTGTCGAC\n",
      "GAACATTCGTGGACAGAGGCTGGGGTAATGGTTGTGGACTATTCGGGAAGGGAAGCTTACTAACGTGTGC\n",
      "TAAGTTTAAGTGTGTGACAAAACTTGAAGGAAAGACAGTTCAATATGAAAACTTAAAATATTCGGTGATA\n",
      "GTCACTGTCCACACTGGGGACCAGCACCAGGTAGGAAATGAGACTACAGAACATGGAACAATTGCAACCA\n",
      "TAACACCTCAAGCTCCCACGTCGGAAATACAGCTGACTGACTACGGAGCCCTTACATTGGACTGCTCACC\n",
      "TAGAACAGGGCTGGACTTTAATGAGATGGTGCTGTTGACAATGAAAGAAAAATCATGGCTTGTCCACAAA\n",
      "CAATGGTTTCTAGACTTACCATTGCCTTGGACCTCGGGGGCTTCAACATCTCAAGAGACTTGGAACAGAC\n",
      "AAGATCTGTTGGTCACATTCAAGACAGCTCATGCAAAGAAGCAGGAAGTAGTCGTACTGGGGTCACAAGA\n",
      "AGGAGCAATGCACACTGCGTTGACTGGGGCGACAGAAATCCAGACGTCAGGAACGACGACAATCTTCGCA\n",
      "GGACACCTGAAATGTAGACTAAAAATGGATAAACTGACTCTAAAAGGGGTGTCATATGTGATGTGCACAG\n",
      "GCTCATTTAAGCTAGAGAAGGAAGTGGCTGAGACCCAGCATGGAACTGTCCTAGTGCAGGTTAAATATGA\n",
      "AGGAACAGATGCACCATGCAAGATTCCAATTTCAACCCAAGATGAGAAAGGAGTGACCCAGAATGGGAGA\n",
      "TTGATAACAGCCAATCCCATAGTTACTGACAAAGAAAAACCAGTCAACATTGAAACAGAACCACCCTTTG\n",
      "GTGAGAGCTACATCGTGATAGGGGCGGGTGAAAAAGCTTTGAAACTAAGCTGGTTCAAGAAAGGAAGCAG\n",
      "CATAGGGAAAATGTTCGAAGCCACCGCCCGAGGAGCACGAAGGATGGCTATCCTGGGAGACACAGCATGG\n",
      "GACTTCGGTTCCATAGGAGGGGTGTTCACATCTGTGGGAAAATTGGTACACCAGGTTTTTGGAACCGCAT\n",
      "ATGGGGTCCTGTTCAGCGGTGTTTCTTGGACCATGAAAATAGGAATAGGGATTCTGCTGACATGGCTAGG\n",
      "ATTGAATTCAAGGAGCACGTCACTCTCGATGACGTGCATTGCAGTTGGCATGGTCACACTGTACCTAGGA\n",
      "GTCATGGTTCAAGCG\n",
      "\n",
      ">JN544405.1 Dengue virus 1 isolate SG(EHI)D1/22625Y11 envelope protein gene, partial cds\n",
      "ATGCGGTGCGTGGGAATAGGCAACAGAGACTTCGTTGAAGGACTGTCAGGAGCAACATGGGTGGATGTGG\n",
      "TACTGGAGCATGGAAGCTGTGTCACCACCATGGCAAAAAATAAACCAACATTGGACATTGAACTCTTGAA\n",
      "GACGGAGGTCACGAACCCTGCCGTCTTGCGCAAACTGTGCATTGAAGCTAAAATATCAAACACCACTACC\n",
      "GATTCAAGATGTCCAACACAAGGAGAAGCTACACTGGTGGAAGAACAAGACGCGAACTTTGTGTGTCGAC\n",
      "GAACATTCGTGGACAGAGGCTGGGGTAATGGTTGTGGACTATTCGGGAAGGGAAGCTTACTAACGTGTGC\n",
      "TAAGTTTAAGTGTGTGACAAAACTTGAAGGAAAGACAGTTCAATATGAAAACTTAAAATATTCGGTGATA\n",
      "GTCACTGTCCACACTGGGGACCAGCACCAGGTAGGAAATGAGACTACAGAACATGGAACAATTGCAACCA\n",
      "TAACACCTCAAGCTCCCACGTCGGAAATACAGCTGACTGACTACGGAGCCCTTACATTGGACTGCTCACC\n",
      "TAGAACAGGGCTGGACTTTAATGAGATGGTGCTGTTGACAATGAAAGAAAAATCATGGCTTGTCCACAAA\n",
      "CAATGGTTTCTAGACTTACCATTGCCTTGGACCTCGGGGGCTTCAACATCTCAAGAGACTTGGAACAGAC\n",
      "AAGATCTGTTGGTCACATTCAAGACAGCTCATGCAAAGAAGCAGGAAGTAGTCGTACTGGGGTCACAAGA\n",
      "AGGAGCAATGCACACTGCGTTGACTGGGGCGACAGAAATCCAGACGTCAGGAACGACGACAATCTTCGCA\n",
      "GGACACCTGAAATGTAGACTAAAAATGGATAAACTGACTCTAAAAGGGGTGTCATATGTGATGTGCACAG\n",
      "GCTCATTTAAGCTAGAGAAGGAAGTGGCTGAGACCCAGCATGGAACTGTCCTAGTGCAGGTTAAATATGA\n",
      "AGGAACAGATGCACCATGCAAGATTCCAATTTCAACCCAAGATGAGAAAGGAGTGACCCAGAATGGGAGA\n",
      "TTGATAACAGCCAATCCCATAGTTACTGACAAAGAAAAACCAGTCAACATTGAAACAGAACCACCCTTTG\n",
      "GTGAGAGCTACATCGTGATAGGGGCGGGTGAAAAAGCTTTGAAACTAAGCTGGTTCAAGAAAGGAAGCAG\n",
      "CATAGGGAAAATGTTCGAAGCCACCGCCCGAGGAGCACGAAGGATGGCTATCCTGGGAGACACAGCATGG\n",
      "GACTTCGGTTCCATAGGAGGGGTGTTCACATCTGTGGGAAAATTGGTACACCAGGTTTTTGGAACCGCAT\n",
      "ATGGGGTCCTGTTCAGCGGTGTTTCTTGGACCATGAAAATAGGAATAGGGATTCTGCTGACATGGCTAGG\n",
      "ATTGAATTCAAGGAGCACGTCACTCTCGATGACGTGCATTGCAGTTGGCATGGTCACACTGTACCTAGGA\n",
      "GTCATGGTTCAAGCG\n",
      "\n",
      ">JN544404.1 Dengue virus 1 isolate SG(EHI)D1/22152Y11 envelope protein gene, partial cds\n",
      "ATGCGGTGCGTGGGAATAGGCAACAGAGACTTCGTTGAAGGACTGTCAGGAGCAACATGGGTGGATGTGG\n",
      "TACTGGAGCATGGAAGCTGTGTCACCACCATGGCAAAAAATAAACCAACATTGGACATTGAACTCTTGAA\n",
      "GACGGAGGTCACGAACCCTGCCGTCTTGCGCAAACTGTGCATTGAAGCTAAAATATCAAACACCACTACC\n",
      "GATTCAAGATGTCCAACACAAGGAGAAGCTACACTGGTGGAAGAACAAGACGCGAACTTTGTGTGTCGAC\n",
      "GAACATTCGTGGACAGAGGCTGGGGTAATGGTTGTGGACTATTCGGGAAGGGAAGCTTACTAACGTGTGC\n",
      "TAAGTTTAAGTGTGTGACAAAACTTGAAGGAAAGACAGTTCAATATGAAAACTTAAAATATTCGGTGATA\n",
      "GTCACTGTCCACACTGGGGACCAGCACCAGGTAGGAAATGAGACTACAGAACATGGAACAATTGCAACCA\n",
      "TAACACCTCAAGCTCCCACGTCGGAAATACAGCTGACTGACTACGGAGCCCTTACATTGGACTGCTCACC\n",
      "TAGAACAGGGCTGGACTTTAATGAGATGGTGCTGTTGACAATGAAAGAAAAATCATGGCTTGTCCACAAA\n",
      "CAATGGTTTCTAGACTTACCATTGCCTTGGACCTCGGGGGCTTCAACATCTCAAGAGACTTGGAACAGAC\n",
      "AAGATCTGTTGGTCACATTCAAGACAGCTCATGCAAAGAAGCAGGAAGTAGTCGTACTGGGGTCACAAGA\n",
      "AGGAGCAATGCACACTGCGTTGACTGGGGCGACAGAAATCCAGACGTCAGGAACGACGACAATCTTCGCA\n",
      "GGACACCTGAAATGTAGACTAAAAATGGATAAACTGACTCTAAAAGGGGTGTCATATGTGATGTGCACAG\n",
      "GCTCATTTAAGCTAGAGAAGGAAGTGGCTGAGACCCAGCATGGAACTGTCCTAGTGCAGGTTAAATATGA\n",
      "AGGAACAGATGCACCATGCAAGATTCCAATTTCAACCCAAGATGAGAAAGGAGTGACCCAGAATGGGAGA\n",
      "TTGATAACAGCCAATCCCATAGTTACTGACAAAGAAAAACCAGTCAACATTGAAACAGAACCACCCTTTG\n",
      "GTGAGAGCTACATCGTGATAGGGGCGGGTGAAAAAGCTTTGAAACTAAGCTGGTTCAAGAAAGGAAGCAG\n",
      "CATAGGGAAAATGTTCGAAGCCACCGCCCGAGGAGCACGAAGGATGGCTATCCTGGGAGACACAGCATGG\n",
      "GACTTCGGTTCCATAGGAGGGGTGTTCACATCTGTGGGAAAATTGGTACACCAGGTTTTTGGAACCGCAT\n",
      "ATGGGGTCCTGTTCAGCGGTGTTTCTTGGACCATGAAAATAGGAATAGGGATTCTGCTGACATGGCTAGG\n",
      "ATTGAATTCAAGGAGCACGTCACTCTCGATGACGTGCATTGCAGTTGGCATGGTCACACTGTACCTAGGA\n",
      "GTCATGGTTCAAGCG\n",
      "\n",
      ">JN544403.1 Dengue virus 1 isolate SG(EHI)D1/24532Y11 envelope protein gene, partial cds\n",
      "ATGCGGTGCGTGGGAATAGGCAACAGAGACTTCGTTGAAGGACTGTCAGGAGCAACATGGGTGGATGTGG\n",
      "TACTGGAGCATGGAAGCTGTGTCACCACCATGGCAAAAAATAAACCAACATTGGACATTGAACTCTTGAA\n",
      "GACGGAGGTCACGAACCCTGCCGTCTTGCGCAAACTGTGCATTGAAGCTAAAATATCAAACACCACTACC\n",
      "GATTCAAGATGTCCAACACAAGGAGAAGCTACACTGGTGGAAGAACAAGACGCGAACTTTGTGTGTCGAC\n",
      "GAACATTCGTGGACAGAGGCTGGGGTAATGGTTGTGGACTATTCGGGAAGGGAAGCTTACTAACGTGTGC\n",
      "TAAGTTTAAGTGTGTGACAAAACTTGAAGGAAAGACAGTT\n"
     ]
    }
   ],
   "source": [
    "print(data[:10000])"
   ]
  },
  {
   "cell_type": "markdown",
   "metadata": {},
   "source": [
    "As we can see, the data has a sequence description, and the sequence itself.\n",
    "\n",
    "Now, lets extract both, descriptions and sequences, by using regular expressions.\n",
    "\n",
    "__Extract descriptions and sequences__"
   ]
  },
  {
   "cell_type": "code",
   "execution_count": 156,
   "metadata": {
    "collapsed": true
   },
   "outputs": [],
   "source": [
    "# Extract descriptions\n",
    "regex_heads = r'\\>.+\\n'\n",
    "data_heads = re.findall(regex_heads, data)\n",
    "\n",
    "data_heads = [d[:-1] for d in data_heads]"
   ]
  },
  {
   "cell_type": "code",
   "execution_count": 157,
   "metadata": {
    "collapsed": true
   },
   "outputs": [],
   "source": [
    "# Extract sequences\n",
    "data_sequences = re.sub(regex_heads, '', data)\n",
    "\n",
    "data_sequences = re.sub(r'\\n\\n', '\\t', data_sequences)\n",
    "data_sequences = re.sub(r'\\n', '', data_sequences)\n",
    "data_sequences = re.sub(r'\\t', '\\n', data_sequences)\n",
    "\n",
    "regex_sequences = r'[ACTG]+\\n'\n",
    "data_sequences = re.findall(regex_sequences, data_sequences)\n",
    "data_sequences = [d[:-1] for d in data_sequences]"
   ]
  },
  {
   "cell_type": "markdown",
   "metadata": {},
   "source": [
    "We must be sure that descriptions and sequences has the same length."
   ]
  },
  {
   "cell_type": "code",
   "execution_count": 160,
   "metadata": {},
   "outputs": [
    {
     "data": {
      "text/plain": [
       "10125"
      ]
     },
     "execution_count": 160,
     "metadata": {},
     "output_type": "execute_result"
    }
   ],
   "source": [
    "len(data_sequences)"
   ]
  },
  {
   "cell_type": "code",
   "execution_count": 161,
   "metadata": {},
   "outputs": [
    {
     "data": {
      "text/plain": [
       "10125"
      ]
     },
     "execution_count": 161,
     "metadata": {},
     "output_type": "execute_result"
    }
   ],
   "source": [
    "len(data_heads)"
   ]
  },
  {
   "cell_type": "markdown",
   "metadata": {},
   "source": [
    "Now we are ready to load the data into a Pandas.DataFrame\n",
    "\n",
    "__Load data into DataFrame__"
   ]
  },
  {
   "cell_type": "code",
   "execution_count": 163,
   "metadata": {
    "collapsed": true
   },
   "outputs": [],
   "source": [
    "df = pd.DataFrame({'description': data_heads,\n",
    "             'sequence': data_sequences})"
   ]
  },
  {
   "cell_type": "code",
   "execution_count": 164,
   "metadata": {
    "scrolled": false
   },
   "outputs": [
    {
     "data": {
      "text/html": [
       "<div>\n",
       "<style>\n",
       "    .dataframe thead tr:only-child th {\n",
       "        text-align: right;\n",
       "    }\n",
       "\n",
       "    .dataframe thead th {\n",
       "        text-align: left;\n",
       "    }\n",
       "\n",
       "    .dataframe tbody tr th {\n",
       "        vertical-align: top;\n",
       "    }\n",
       "</style>\n",
       "<table border=\"1\" class=\"dataframe\">\n",
       "  <thead>\n",
       "    <tr style=\"text-align: right;\">\n",
       "      <th></th>\n",
       "      <th>description</th>\n",
       "      <th>sequence</th>\n",
       "    </tr>\n",
       "  </thead>\n",
       "  <tbody>\n",
       "    <tr>\n",
       "      <th>0</th>\n",
       "      <td>&gt;KR919614.1 Dengue virus 1 isolate GZ2014014 e...</td>\n",
       "      <td>ATAGGCAACAGAGACTTCGTTGAAGGACTGTCAGGAGCAACATGGG...</td>\n",
       "    </tr>\n",
       "    <tr>\n",
       "      <th>1</th>\n",
       "      <td>&gt;KR919613.1 Dengue virus 1 isolate GZ2014013 e...</td>\n",
       "      <td>ATAGGCAACAGAGACTTCGTGGAAGGACTGTCAGGAGCAACTTGGG...</td>\n",
       "    </tr>\n",
       "    <tr>\n",
       "      <th>2</th>\n",
       "      <td>&gt;JN544408.1 Dengue virus 1 isolate SG(EHI)D1/2...</td>\n",
       "      <td>ATGCGGTGCGTGGGAATAGGCAACAGAGACTTCGTTGAAGGACTGT...</td>\n",
       "    </tr>\n",
       "    <tr>\n",
       "      <th>3</th>\n",
       "      <td>&gt;JN544406.1 Dengue virus 1 isolate SG(EHI)D1/1...</td>\n",
       "      <td>ATGCGGTGCGTGGGAATAGGCAACAGAGACTTCGTTGAAGGACTGT...</td>\n",
       "    </tr>\n",
       "    <tr>\n",
       "      <th>4</th>\n",
       "      <td>&gt;JN544405.1 Dengue virus 1 isolate SG(EHI)D1/2...</td>\n",
       "      <td>ATGCGGTGCGTGGGAATAGGCAACAGAGACTTCGTTGAAGGACTGT...</td>\n",
       "    </tr>\n",
       "  </tbody>\n",
       "</table>\n",
       "</div>"
      ],
      "text/plain": [
       "                                         description  \\\n",
       "0  >KR919614.1 Dengue virus 1 isolate GZ2014014 e...   \n",
       "1  >KR919613.1 Dengue virus 1 isolate GZ2014013 e...   \n",
       "2  >JN544408.1 Dengue virus 1 isolate SG(EHI)D1/2...   \n",
       "3  >JN544406.1 Dengue virus 1 isolate SG(EHI)D1/1...   \n",
       "4  >JN544405.1 Dengue virus 1 isolate SG(EHI)D1/2...   \n",
       "\n",
       "                                            sequence  \n",
       "0  ATAGGCAACAGAGACTTCGTTGAAGGACTGTCAGGAGCAACATGGG...  \n",
       "1  ATAGGCAACAGAGACTTCGTGGAAGGACTGTCAGGAGCAACTTGGG...  \n",
       "2  ATGCGGTGCGTGGGAATAGGCAACAGAGACTTCGTTGAAGGACTGT...  \n",
       "3  ATGCGGTGCGTGGGAATAGGCAACAGAGACTTCGTTGAAGGACTGT...  \n",
       "4  ATGCGGTGCGTGGGAATAGGCAACAGAGACTTCGTTGAAGGACTGT...  "
      ]
     },
     "execution_count": 164,
     "metadata": {},
     "output_type": "execute_result"
    }
   ],
   "source": [
    "df.head()"
   ]
  },
  {
   "cell_type": "markdown",
   "metadata": {},
   "source": [
    "## Preprocessing labeled data"
   ]
  },
  {
   "cell_type": "markdown",
   "metadata": {},
   "source": [
    "A second approach involves processing _fasta_ files for each serotype.\n",
    "\n",
    "This time, we use the biopython module to import data from files with fasta format. "
   ]
  },
  {
   "cell_type": "code",
   "execution_count": 32,
   "metadata": {},
   "outputs": [],
   "source": [
    "from Bio import SeqIO\n",
    "import pandas as pd"
   ]
  },
  {
   "cell_type": "code",
   "execution_count": 26,
   "metadata": {
    "collapsed": true
   },
   "outputs": [],
   "source": [
    "fasta_files = [['../data/datos_entrenamiento/D' + str(i) + '_protE_aligned.fasta', str(i)] for i in range(1,5)]"
   ]
  },
  {
   "cell_type": "code",
   "execution_count": 27,
   "metadata": {},
   "outputs": [
    {
     "data": {
      "text/plain": [
       "[['../data/datos_entrenamiento/D1_protE_aligned.fasta', '1'],\n",
       " ['../data/datos_entrenamiento/D2_protE_aligned.fasta', '2'],\n",
       " ['../data/datos_entrenamiento/D3_protE_aligned.fasta', '3'],\n",
       " ['../data/datos_entrenamiento/D4_protE_aligned.fasta', '4']]"
      ]
     },
     "execution_count": 27,
     "metadata": {},
     "output_type": "execute_result"
    }
   ],
   "source": [
    "fasta_files"
   ]
  },
  {
   "cell_type": "code",
   "execution_count": 28,
   "metadata": {},
   "outputs": [],
   "source": [
    "def load_fasta_files(files= []):\n",
    "    '''\n",
    "    Load sequences from fasta files\n",
    "    \n",
    "    -----\n",
    "    param:\n",
    "    files list containing [path, label]\n",
    "    \n",
    "    -------\n",
    "    returns:\n",
    "    list containing [label, id, sequence]\n",
    "    '''\n",
    "    res = []\n",
    "    for f in files:\n",
    "        fasta_file = SeqIO.parse(open(f[0]), 'fasta')\n",
    "        \n",
    "        for s in fasta_file:\n",
    "            res.append([s.id, str(s.seq), f[1]])\n",
    "    \n",
    "    return res"
   ]
  },
  {
   "cell_type": "markdown",
   "metadata": {},
   "source": [
    "Let's load the data into a pandas.DataFrame"
   ]
  },
  {
   "cell_type": "code",
   "execution_count": 29,
   "metadata": {
    "collapsed": true
   },
   "outputs": [],
   "source": [
    "data = load_fasta_files(fasta_files)\n",
    "\n",
    "df = pd.DataFrame(data, columns=['id', 'sequence', 'label'])"
   ]
  },
  {
   "cell_type": "code",
   "execution_count": 45,
   "metadata": {
    "scrolled": true
   },
   "outputs": [
    {
     "data": {
      "text/plain": [
       "(10103, 3)"
      ]
     },
     "execution_count": 45,
     "metadata": {},
     "output_type": "execute_result"
    }
   ],
   "source": [
    "df.shape"
   ]
  },
  {
   "cell_type": "code",
   "execution_count": 49,
   "metadata": {
    "collapsed": true
   },
   "outputs": [],
   "source": [
    "%matplotlib inline"
   ]
  },
  {
   "cell_type": "code",
   "execution_count": 51,
   "metadata": {},
   "outputs": [
    {
     "data": {
      "text/plain": [
       "<matplotlib.axes._subplots.AxesSubplot at 0x7f968dcda5c0>"
      ]
     },
     "execution_count": 51,
     "metadata": {},
     "output_type": "execute_result"
    },
    {
     "data": {
      "image/png": "[encoded data removed]",
      "text/plain": [
       "<matplotlib.figure.Figure at 0x7f968d910438>"
      ]
     },
     "metadata": {},
     "output_type": "display_data"
    }
   ],
   "source": [
    "df.groupby('label').count()['sequence'].plot('bar')"
   ]
  },
  {
   "cell_type": "markdown",
   "metadata": {},
   "source": [
    "As result, we have a pandas DataFrame containing the sequences labeled with a serotype number from 1 to 4."
   ]
  },
  {
   "cell_type": "markdown",
   "metadata": {},
   "source": [
    "Next step involves analysing sequences on each serotype (label)"
   ]
  }
 ],
 "metadata": {
  "kernelspec": {
   "display_name": "Python 3",
   "language": "python",
   "name": "python3"
  },
  "language_info": {
   "codemirror_mode": {
    "name": "ipython",
    "version": 3
   },
   "file_extension": ".py",
   "mimetype": "text/x-python",
   "name": "python",
   "nbconvert_exporter": "python",
   "pygments_lexer": "ipython3",
   "version": "3.5.2"
  }
 },
 "nbformat": 4,
 "nbformat_minor": 2
}
