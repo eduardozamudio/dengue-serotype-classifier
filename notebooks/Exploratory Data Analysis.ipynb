{
 "cells": [
  {
   "cell_type": "markdown",
   "metadata": {},
   "source": [
    "# Exploratory Data Analysis for the Dengue Serotype Classifier\n",
    "\n",
    "The aim of this notebook is to identify Dengue serotypes from genomic sequence fragments \n",
    "\n",
    "This notebook is organized in the following sections:\n",
    "\n",
    "* Data preprocessing\n",
    "* Preprocessing labeled data\n",
    "* Exploratory Data Analysis (ToDo)"
   ]
  },
  {
   "cell_type": "code",
   "execution_count": 36,
   "metadata": {
    "collapsed": true
   },
   "outputs": [],
   "source": [
    "import pandas as pd\n",
    "import re"
   ]
  },
  {
   "cell_type": "markdown",
   "metadata": {},
   "source": [
    "## Preprocessing\n",
    "\n",
    "In order to put clean data into the classifier, we start by getting sequences and descriptions for each sequence"
   ]
  },
  {
   "cell_type": "markdown",
   "metadata": {},
   "source": [
    "__Load the data__"
   ]
  },
  {
   "cell_type": "code",
   "execution_count": 37,
   "metadata": {
    "collapsed": true
   },
   "outputs": [],
   "source": [
    "datafile = open('../data/all_den_proteinE.fasta', 'r')"
   ]
  },
  {
   "cell_type": "code",
   "execution_count": 38,
   "metadata": {
    "collapsed": true
   },
   "outputs": [],
   "source": [
    "data = ''\n",
    "\n",
    "with open('../data/all_den_proteinE.fasta', 'r') as file:\n",
    "    data = file.read()"
   ]
  },
  {
   "cell_type": "code",
   "execution_count": 39,
   "metadata": {
    "scrolled": true
   },
   "outputs": [
    {
     "name": "stdout",
     "output_type": "stream",
     "text": [
      ">KR919614.1 Dengue virus 1 isolate GZ2014014 envelope gene, partial cds\n",
      "ATAGGCAACAGAGACTTCGTTGAAGGACTGTCAGGAGCAACATGGGTGGATGTGGTACTGGAGCATGGAA\n",
      "GCTGTGTCACCACCATGGCAAAGAATAAACCAACATTGGACATTGAACTCTTGAAGACGGAGGTCACGAA\n",
      "CCCTGCCGTCTTGCGCAAACTGTGCATTGAAGCTAAAATATCAAACACCACCACCGATTCAAGATGTCCA\n",
      "ACACAAGGAGAAGCTACACTGGTGGAAGAACAAGACGCGAACTTTGTGTGTCGACGAACATTCGTGGACA\n",
      "GAGGCTGGGGTAATGGTTGTGGACTATTCGGGAAGGGAAGCTTACTAACGTGTGCTAAGTTTAAGTGTGT\n",
      "GACAAAACTTGAAGGAAAGATAGTTCAATATGAAAACTTAAAATATTCGGTGATAGTCACTGTCCACACT\n",
      "GGGGACCAGCACCAGGTAGGAAATGAGACTACAGAACATGGAACAATTGCAACCATAACACCTCAAGCTC\n",
      "CCACGTCGGAAATACAGCTGACTGACTACGGAGCCCTTACATTGGACTGCTCACCTAGAACAGGGCTGGA\n",
      "CTTTAATGAGATGGTGCTGTTGACAATGAAAGAAAAATCATGGCTTGTCCACAAACAATGGTTTCTAGAC\n",
      "TTACCATTACCTTGGACCTCGGGGGCTTCAACATCTCAAGAGACTTGGAACAGACAAGATCTGCTGGTCA\n",
      "CGTTTAAGACAGCTCATGCAAAGAAGCAGGAAGTAGTCGTACTGGGGTCACAAGAAGGAGCAATGCACAC\n",
      "TGCGTTGACTGGGGCGACAGAAATCCAGACGTCAGGAACGACGACAATCCTCGCAGGACACCTGAAATGT\n",
      "AGACTGAAAATGGATAAACTGACTTTAAAAGGGGTGTCATATGTGATGTGCACAGGCTCATTTAAGCTAG\n",
      "AGAAGGAAGTGGCTGAGACCCAGCATGGAACTGTCCTAGTGCAGGTTAAATATGAAGGAACAGATGCACC\n",
      "ATGCAAGATTCCAATTTCAACCCAAGATGAGAAAGGAGTGACCCAGAATGGGAGACTGATAACAGCCAAT\n",
      "CCCATAGTTACTGACAAAGAAAAACCAGTCAACATTGAAACAGAACCACCCTTTGGTGAGAGCTACATCG\n",
      "TGATAGGGGCGGGTGAAAAAGCTTTGAAACTAAGCTGGTTTAAGAAAGGAAGCAGCATAGGGAAAATGTT\n",
      "CGAAGCCACCGCCCGAGGAGCACGAAGGATGGCTATCCTGGGAGACACAGCATGGGACTTCGGTTCCATA\n",
      "GGAGGGGTGTTCACATCTGTGGGAAAATTGGTACACCAGGTTTCTGGGACCGCATATGGGGTCCTGTTCA\n",
      "GCGGTGTTTCTTGGACCATGAAAATAGGAATAGGGATTCTGCTGACATGGCTAGGATTGAATTCAAGGAG\n",
      "CACGTCACTCTCGATGACGTGCATTGCAGTTGGCATGGTCACACTGTACCTAGGAGTCATGGTTCAAGCG\n",
      "\n",
      ">KR919613.1 Dengue virus 1 isolate GZ2014013 envelope gene, partial cds\n",
      "ATAGGCAACAGAGACTTCGTGGAAGGACTGTCAGGAGCAACTTGGGTAGATGTGGTGCTGGAACATGGAA\n",
      "GTTGCGTCACTACCATGGCAAAAGACAGACCAACATTGGACATTGAACTCTTGAAGACGGAAGTCACAAA\n",
      "CCCTGCCGTCCTGCGCAAACTGTGCATTGAAGCTAAAATATCAAACACCACCACCGACTCAAGATGTCCA\n",
      "ACACAAGGAGAAGCCACACTGGTGGAAGAACAAGACGCGAATTTTGTGTGTCGACGAACGTTTGTGGATA\n",
      "GAGGCTGGGGCAATGGCTGTGGGCTCTTCGGAAAAGGAAGCCTTATAGCGTGTGCTAAGTTCAAGTGTGT\n",
      "GACAAAATTGGAAGGAAAAATAGTTCAATATGAAAACTTGAAATATTCAGTAATTGTCACCGTCCACACT\n",
      "GGAGACCAGCACCAAGTGGGAAATGAAAGCACAGAACATGGGACAACTGCAACTATAACACCTCAAGCTC\n",
      "CCACGACGGAAATACAGCTGACCGACTACGGAGCTCTTACACTGGATTGTTCACCTAGAACAGGACTAGA\n",
      "CTTTAATGAAATGGTGTTGTTGACAATGAAAGAAAAATCATGGCTAGTCCACAAACAATGGTTTCTAGAC\n",
      "CTACCACTGCCTTGGACCTCGGGAGCCTCAACATCACAAGAAACTTGGAACAGACAAGATTTGCTGGTGA\n",
      "CATTTAAGACAGCTCATGCAAAGAAGCAGGAAGTAGTTGTACTAGGATCACAAGAAGGAGCAATGCACAC\n",
      "TGCGTTGACCGGAGCGACAGAAATCCAAACGTCTGGAACGACAACAATTTTTGCAGGACATTTGAAATGT\n",
      "AGACTAAAGATGGACAAACTGACTCTAAAAGGAATGTCATATGTGATGTGCACAGGCTCATTCAAGCTAG\n",
      "AGAAAGAAGTGGCTGAGACCCAGCATGGAACCGTTCTAGTGCAGATTAAATACGAAGGAACAGATGCACC\n",
      "ATGCAAGATTCCTTTTTCGACCCAAGATGAAAAAGGAGTAACTCAGAATGGGAGATTGATAACAGCCAAC\n",
      "CCCATAGTTACTGACAAAGAAAAGCCAGTCAACATTGAGGCGGAACCGCCTTTTGGTGAGAGTTACATTG\n",
      "TGATAGGAGCAGGTGAAAAAGCTTTGAAACTAAGCTGGTTCAAGAAAGGAAGTAGCATAGGGAAAATGTT\n",
      "TGAGGCAACTGCCAGAGGAGCACGAAGGATGGCCATACTGGGAGACACCGCATGGGACTTTGGTTCTATA\n",
      "GGAGGAGTGTTCACGTCTGTTGGAAAATTAGTACACCAGATTTTTGGAACTGCATATGGGGTTTTGTTCA\n",
      "GCGGTGTTTCCTGGACCATGAAAATAGGAATAGGGGTTCTGCTGACATGGCTAGGATTAAACTCAAGGAG\n",
      "CACGTCCCTTTCGATGACGTGCATTGCAGTTGGCCTAGTAACGCTATACTTAGGAGTCATGGTTCAGGCG\n",
      "\n",
      ">JN544408.1 Dengue virus 1 isolate SG(EHI)D1/21586Y11 envelope protein gene, partial cds\n",
      "ATGCGGTGCGTGGGAATAGGCAACAGAGACTTCGTTGAAGGACTGTCAGGAGCAACATGGGTGGATGTGG\n",
      "TACTGGAGCATGGAAGCTGTGTCACCACCATGGCAAAAAATAAACCAACATTGGACATTGAACTCTTGAA\n",
      "GACGGAGGTCACGAACCCTGCCGTCTTGCGCAAACTGTGCATTGAAGCTAAAATATCAAACACCACTACC\n",
      "GATTCAAGATGTCCAACACAAGGAGAAGCTACACTGGTGGAAGAACAAGACGCGAACTTTGTGTGTCGAC\n",
      "GAACATTCGTGGACAGAGGCTGGGGTAATGGTTGTGGACTATTCGGGAAGGGAAGCTTACTAACGTGTGC\n",
      "TAAGTTTAAGTGTGTGACAAAACTTGAAGGAAAGACAGTTCAATATGAAAACTTAAAATATTCGGTGATA\n",
      "GTCACTGTCCACACTGGGGACCAGCACCAGGTAGGAAATGAGACTACAGAACATGGAACAATTGCAACCA\n",
      "TAACACCTCAAGCTCCCACGTCGGAAATACAGCTGACTGACTACGGAGCCCTTACATTGGACTGCTCACC\n",
      "TAGAACAGGGCTGGACTTTAATGAGATGGTGCTGTTGACAATGAAAGAAAAATCATGGCTTGTCCACAAA\n",
      "CAATGGTTTCTAGACTTACCATTGCCTTGGACCTCGGGGGCTTCAACATCTCAAGAGACTTGGAACAGAC\n",
      "AAGATCTGTTGGTCACATTCAAGACAGCTCATGCAAAGAAGCAGGAAGTAGTCGTACTGGGGTCACAAGA\n",
      "AGGAGCAATGCACACTGCGTTGACTGGGGCGACAGAAATCCAGACGTCAGGAACGACGACAATCTTCGCA\n",
      "GGACACCTGAAATGTAGACTAAAAATGGATAAACTGACTCTAAAAGGGGTGTCATATGTGATGTGCACAG\n",
      "GCTCATTTAAGCTAGAGAAGGAAGTGGCTGAGACCCAGCATGGAACTGTCCTAGTGCAGGTTAAATATGA\n",
      "AGGAACAGATGCACCATGCAAGATTCCAATTTCAACCCAAGATGAGAAAGGAGTGACCCAGAATGGGAGA\n",
      "TTGATAACAGCCAATCCCATAGTTACTGACAAAGAAAAACCAGTCAACATTGAAACAGAACCACCCTTTG\n",
      "GTGAGAGCTACATCGTGATAGGGGCGGGTGAAAAAGCTTTGAAACTAAGCTGGTTCAAGAAAGGAAGCAG\n",
      "CATAGGGAAAATGTTCGAAGCCACCGCCCGAGGAGCACGAAGGATGGCTATCCTGGGAGACACAGCATGG\n",
      "GACTTCGGTTCCATAGGAGGGGTGTTCACATCTGTGGGAAAATTGGTACACCAGGTTTTTGGAACCGCAT\n",
      "ATGGGGTCCTGTTCAGCGGTGTTTCTTGGACCATGAAAATAGGAATAGGGATTCTGCTGACATGGCTAGG\n",
      "ATTGAATTCAAGGAGCACGTCACTCTCGATGACGTGCATTGCAGTTGGCATGGTCACACTGTACCTAGGA\n",
      "GTCATGGTTCAAGCG\n",
      "\n",
      ">JN544406.1 Dengue virus 1 isolate SG(EHI)D1/14805Y11 envelope protein gene, partial cds\n",
      "ATGCGGTGCGTGGGAATAGGCAACAGAGACTTCGTTGAAGGACTGTCAGGAGCAACATGGGTGGATGTGG\n",
      "TACTGGAGCATGGAAGCTGTGTCACCACCATGGCAAAAAATAAACCAACATTGGACATTGAACTCTTGAA\n",
      "GACGGAGGTCACGAACCCTGCCGTCTTGCGCAAACTGTGCATTGAAGCTAAAATATCAAACACCACTACC\n",
      "GATTCAAGATGTCCAACACAAGGAGAAGCTACACTGGTGGAAGAACAAGACGCGAACTTTGTGTGTCGAC\n",
      "GAACATTCGTGGACAGAGGCTGGGGTAATGGTTGTGGACTATTCGGGAAGGGAAGCTTACTAACGTGTGC\n",
      "TAAGTTTAAGTGTGTGACAAAACTTGAAGGAAAGACAGTTCAATATGAAAACTTAAAATATTCGGTGATA\n",
      "GTCACTGTCCACACTGGGGACCAGCACCAGGTAGGAAATGAGACTACAGAACATGGAACAATTGCAACCA\n",
      "TAACACCTCAAGCTCCCACGTCGGAAATACAGCTGACTGACTACGGAGCCCTTACATTGGACTGCTCACC\n",
      "TAGAACAGGGCTGGACTTTAATGAGATGGTGCTGTTGACAATGAAAGAAAAATCATGGCTTGTCCACAAA\n",
      "CAATGGTTTCTAGACTTACCATTGCCTTGGACCTCGGGGGCTTCAACATCTCAAGAGACTTGGAACAGAC\n",
      "AAGATCTGTTGGTCACATTCAAGACAGCTCATGCAAAGAAGCAGGAAGTAGTCGTACTGGGGTCACAAGA\n",
      "AGGAGCAATGCACACTGCGTTGACTGGGGCGACAGAAATCCAGACGTCAGGAACGACGACAATCTTCGCA\n",
      "GGACACCTGAAATGTAGACTAAAAATGGATAAACTGACTCTAAAAGGGGTGTCATATGTGATGTGCACAG\n",
      "GCTCATTTAAGCTAGAGAAGGAAGTGGCTGAGACCCAGCATGGAACTGTCCTAGTGCAGGTTAAATATGA\n",
      "AGGAACAGATGCACCATGCAAGATTCCAATTTCAACCCAAGATGAGAAAGGAGTGACCCAGAATGGGAGA\n",
      "TTGATAACAGCCAATCCCATAGTTACTGACAAAGAAAAACCAGTCAACATTGAAACAGAACCACCCTTTG\n",
      "GTGAGAGCTACATCGTGATAGGGGCGGGTGAAAAAGCTTTGAAACTAAGCTGGTTCAAGAAAGGAAGCAG\n",
      "CATAGGGAAAATGTTCGAAGCCACCGCCCGAGGAGCACGAAGGATGGCTATCCTGGGAGACACAGCATGG\n",
      "GACTTCGGTTCCATAGGAGGGGTGTTCACATCTGTGGGAAAATTGGTACACCAGGTTTTTGGAACCGCAT\n",
      "ATGGGGTCCTGTTCAGCGGTGTTTCTTGGACCATGAAAATAGGAATAGGGATTCTGCTGACATGGCTAGG\n",
      "ATTGAATTCAAGGAGCACGTCACTCTCGATGACGTGCATTGCAGTTGGCATGGTCACACTGTACCTAGGA\n",
      "GTCATGGTTCAAGCG\n",
      "\n",
      ">JN544405.1 Dengue virus 1 isolate SG(EHI)D1/22625Y11 envelope protein gene, partial cds\n",
      "ATGCGGTGCGTGGGAATAGGCAACAGAGACTTCGTTGAAGGACTGTCAGGAGCAACATGGGTGGATGTGG\n",
      "TACTGGAGCATGGAAGCTGTGTCACCACCATGGCAAAAAATAAACCAACATTGGACATTGAACTCTTGAA\n",
      "GACGGAGGTCACGAACCCTGCCGTCTTGCGCAAACTGTGCATTGAAGCTAAAATATCAAACACCACTACC\n",
      "GATTCAAGATGTCCAACACAAGGAGAAGCTACACTGGTGGAAGAACAAGACGCGAACTTTGTGTGTCGAC\n",
      "GAACATTCGTGGACAGAGGCTGGGGTAATGGTTGTGGACTATTCGGGAAGGGAAGCTTACTAACGTGTGC\n",
      "TAAGTTTAAGTGTGTGACAAAACTTGAAGGAAAGACAGTTCAATATGAAAACTTAAAATATTCGGTGATA\n",
      "GTCACTGTCCACACTGGGGACCAGCACCAGGTAGGAAATGAGACTACAGAACATGGAACAATTGCAACCA\n",
      "TAACACCTCAAGCTCCCACGTCGGAAATACAGCTGACTGACTACGGAGCCCTTACATTGGACTGCTCACC\n",
      "TAGAACAGGGCTGGACTTTAATGAGATGGTGCTGTTGACAATGAAAGAAAAATCATGGCTTGTCCACAAA\n",
      "CAATGGTTTCTAGACTTACCATTGCCTTGGACCTCGGGGGCTTCAACATCTCAAGAGACTTGGAACAGAC\n",
      "AAGATCTGTTGGTCACATTCAAGACAGCTCATGCAAAGAAGCAGGAAGTAGTCGTACTGGGGTCACAAGA\n",
      "AGGAGCAATGCACACTGCGTTGACTGGGGCGACAGAAATCCAGACGTCAGGAACGACGACAATCTTCGCA\n",
      "GGACACCTGAAATGTAGACTAAAAATGGATAAACTGACTCTAAAAGGGGTGTCATATGTGATGTGCACAG\n",
      "GCTCATTTAAGCTAGAGAAGGAAGTGGCTGAGACCCAGCATGGAACTGTCCTAGTGCAGGTTAAATATGA\n",
      "AGGAACAGATGCACCATGCAAGATTCCAATTTCAACCCAAGATGAGAAAGGAGTGACCCAGAATGGGAGA\n",
      "TTGATAACAGCCAATCCCATAGTTACTGACAAAGAAAAACCAGTCAACATTGAAACAGAACCACCCTTTG\n",
      "GTGAGAGCTACATCGTGATAGGGGCGGGTGAAAAAGCTTTGAAACTAAGCTGGTTCAAGAAAGGAAGCAG\n",
      "CATAGGGAAAATGTTCGAAGCCACCGCCCGAGGAGCACGAAGGATGGCTATCCTGGGAGACACAGCATGG\n",
      "GACTTCGGTTCCATAGGAGGGGTGTTCACATCTGTGGGAAAATTGGTACACCAGGTTTTTGGAACCGCAT\n",
      "ATGGGGTCCTGTTCAGCGGTGTTTCTTGGACCATGAAAATAGGAATAGGGATTCTGCTGACATGGCTAGG\n",
      "ATTGAATTCAAGGAGCACGTCACTCTCGATGACGTGCATTGCAGTTGGCATGGTCACACTGTACCTAGGA\n",
      "GTCATGGTTCAAGCG\n",
      "\n",
      ">JN544404.1 Dengue virus 1 isolate SG(EHI)D1/22152Y11 envelope protein gene, partial cds\n",
      "ATGCGGTGCGTGGGAATAGGCAACAGAGACTTCGTTGAAGGACTGTCAGGAGCAACATGGGTGGATGTGG\n",
      "TACTGGAGCATGGAAGCTGTGTCACCACCATGGCAAAAAATAAACCAACATTGGACATTGAACTCTTGAA\n",
      "GACGGAGGTCACGAACCCTGCCGTCTTGCGCAAACTGTGCATTGAAGCTAAAATATCAAACACCACTACC\n",
      "GATTCAAGATGTCCAACACAAGGAGAAGCTACACTGGTGGAAGAACAAGACGCGAACTTTGTGTGTCGAC\n",
      "GAACATTCGTGGACAGAGGCTGGGGTAATGGTTGTGGACTATTCGGGAAGGGAAGCTTACTAACGTGTGC\n",
      "TAAGTTTAAGTGTGTGACAAAACTTGAAGGAAAGACAGTTCAATATGAAAACTTAAAATATTCGGTGATA\n",
      "GTCACTGTCCACACTGGGGACCAGCACCAGGTAGGAAATGAGACTACAGAACATGGAACAATTGCAACCA\n",
      "TAACACCTCAAGCTCCCACGTCGGAAATACAGCTGACTGACTACGGAGCCCTTACATTGGACTGCTCACC\n",
      "TAGAACAGGGCTGGACTTTAATGAGATGGTGCTGTTGACAATGAAAGAAAAATCATGGCTTGTCCACAAA\n",
      "CAATGGTTTCTAGACTTACCATTGCCTTGGACCTCGGGGGCTTCAACATCTCAAGAGACTTGGAACAGAC\n",
      "AAGATCTGTTGGTCACATTCAAGACAGCTCATGCAAAGAAGCAGGAAGTAGTCGTACTGGGGTCACAAGA\n",
      "AGGAGCAATGCACACTGCGTTGACTGGGGCGACAGAAATCCAGACGTCAGGAACGACGACAATCTTCGCA\n",
      "GGACACCTGAAATGTAGACTAAAAATGGATAAACTGACTCTAAAAGGGGTGTCATATGTGATGTGCACAG\n",
      "GCTCATTTAAGCTAGAGAAGGAAGTGGCTGAGACCCAGCATGGAACTGTCCTAGTGCAGGTTAAATATGA\n",
      "AGGAACAGATGCACCATGCAAGATTCCAATTTCAACCCAAGATGAGAAAGGAGTGACCCAGAATGGGAGA\n",
      "TTGATAACAGCCAATCCCATAGTTACTGACAAAGAAAAACCAGTCAACATTGAAACAGAACCACCCTTTG\n",
      "GTGAGAGCTACATCGTGATAGGGGCGGGTGAAAAAGCTTTGAAACTAAGCTGGTTCAAGAAAGGAAGCAG\n",
      "CATAGGGAAAATGTTCGAAGCCACCGCCCGAGGAGCACGAAGGATGGCTATCCTGGGAGACACAGCATGG\n",
      "GACTTCGGTTCCATAGGAGGGGTGTTCACATCTGTGGGAAAATTGGTACACCAGGTTTTTGGAACCGCAT\n",
      "ATGGGGTCCTGTTCAGCGGTGTTTCTTGGACCATGAAAATAGGAATAGGGATTCTGCTGACATGGCTAGG\n",
      "ATTGAATTCAAGGAGCACGTCACTCTCGATGACGTGCATTGCAGTTGGCATGGTCACACTGTACCTAGGA\n",
      "GTCATGGTTCAAGCG\n",
      "\n",
      ">JN544403.1 Dengue virus 1 isolate SG(EHI)D1/24532Y11 envelope protein gene, partial cds\n",
      "ATGCGGTGCGTGGGAATAGGCAACAGAGACTTCGTTGAAGGACTGTCAGGAGCAACATGGGTGGATGTGG\n",
      "TACTGGAGCATGGAAGCTGTGTCACCACCATGGCAAAAAATAAACCAACATTGGACATTGAACTCTTGAA\n",
      "GACGGAGGTCACGAACCCTGCCGTCTTGCGCAAACTGTGCATTGAAGCTAAAATATCAAACACCACTACC\n",
      "GATTCAAGATGTCCAACACAAGGAGAAGCTACACTGGTGGAAGAACAAGACGCGAACTTTGTGTGTCGAC\n",
      "GAACATTCGTGGACAGAGGCTGGGGTAATGGTTGTGGACTATTCGGGAAGGGAAGCTTACTAACGTGTGC\n",
      "TAAGTTTAAGTGTGTGACAAAACTTGAAGGAAAGACAGTT\n"
     ]
    }
   ],
   "source": [
    "print(data[:10000])"
   ]
  },
  {
   "cell_type": "markdown",
   "metadata": {},
   "source": [
    "As we can see, the data has a sequence description, and the sequence itself.\n",
    "\n",
    "Now, lets extract both, descriptions and sequences, by using regular expressions.\n",
    "\n",
    "__Extract descriptions and sequences__"
   ]
  },
  {
   "cell_type": "code",
   "execution_count": 40,
   "metadata": {
    "collapsed": true
   },
   "outputs": [],
   "source": [
    "# Extract descriptions\n",
    "regex_heads = r'\\>.+\\n'\n",
    "data_heads = re.findall(regex_heads, data)\n",
    "\n",
    "data_heads = [d[:-1] for d in data_heads]"
   ]
  },
  {
   "cell_type": "code",
   "execution_count": 41,
   "metadata": {
    "collapsed": true
   },
   "outputs": [],
   "source": [
    "# Extract sequences\n",
    "data_sequences = re.sub(regex_heads, '', data)\n",
    "\n",
    "data_sequences = re.sub(r'\\n\\n', '\\t', data_sequences)\n",
    "data_sequences = re.sub(r'\\n', '', data_sequences)\n",
    "data_sequences = re.sub(r'\\t', '\\n', data_sequences)\n",
    "\n",
    "regex_sequences = r'[ACTG]+\\n'\n",
    "data_sequences = re.findall(regex_sequences, data_sequences)\n",
    "data_sequences = [d[:-1] for d in data_sequences]"
   ]
  },
  {
   "cell_type": "markdown",
   "metadata": {},
   "source": [
    "We must be sure that descriptions and sequences has the same length."
   ]
  },
  {
   "cell_type": "code",
   "execution_count": 42,
   "metadata": {},
   "outputs": [
    {
     "data": {
      "text/plain": [
       "10125"
      ]
     },
     "execution_count": 42,
     "metadata": {},
     "output_type": "execute_result"
    }
   ],
   "source": [
    "len(data_sequences)"
   ]
  },
  {
   "cell_type": "code",
   "execution_count": 43,
   "metadata": {},
   "outputs": [
    {
     "data": {
      "text/plain": [
       "10125"
      ]
     },
     "execution_count": 43,
     "metadata": {},
     "output_type": "execute_result"
    }
   ],
   "source": [
    "len(data_heads)"
   ]
  },
  {
   "cell_type": "markdown",
   "metadata": {},
   "source": [
    "Now we are ready to load the data into a Pandas.DataFrame\n",
    "\n",
    "__Load data into DataFrame__"
   ]
  },
  {
   "cell_type": "code",
   "execution_count": 44,
   "metadata": {
    "collapsed": true
   },
   "outputs": [],
   "source": [
    "df = pd.DataFrame({'description': data_heads,\n",
    "             'sequence': data_sequences})"
   ]
  },
  {
   "cell_type": "code",
   "execution_count": 45,
   "metadata": {
    "scrolled": false
   },
   "outputs": [
    {
     "data": {
      "text/html": [
       "<div>\n",
       "<style scoped>\n",
       "    .dataframe tbody tr th:only-of-type {\n",
       "        vertical-align: middle;\n",
       "    }\n",
       "\n",
       "    .dataframe tbody tr th {\n",
       "        vertical-align: top;\n",
       "    }\n",
       "\n",
       "    .dataframe thead th {\n",
       "        text-align: right;\n",
       "    }\n",
       "</style>\n",
       "<table border=\"1\" class=\"dataframe\">\n",
       "  <thead>\n",
       "    <tr style=\"text-align: right;\">\n",
       "      <th></th>\n",
       "      <th>description</th>\n",
       "      <th>sequence</th>\n",
       "    </tr>\n",
       "  </thead>\n",
       "  <tbody>\n",
       "    <tr>\n",
       "      <th>0</th>\n",
       "      <td>&gt;KR919614.1 Dengue virus 1 isolate GZ2014014 e...</td>\n",
       "      <td>ATAGGCAACAGAGACTTCGTTGAAGGACTGTCAGGAGCAACATGGG...</td>\n",
       "    </tr>\n",
       "    <tr>\n",
       "      <th>1</th>\n",
       "      <td>&gt;KR919613.1 Dengue virus 1 isolate GZ2014013 e...</td>\n",
       "      <td>ATAGGCAACAGAGACTTCGTGGAAGGACTGTCAGGAGCAACTTGGG...</td>\n",
       "    </tr>\n",
       "    <tr>\n",
       "      <th>2</th>\n",
       "      <td>&gt;JN544408.1 Dengue virus 1 isolate SG(EHI)D1/2...</td>\n",
       "      <td>ATGCGGTGCGTGGGAATAGGCAACAGAGACTTCGTTGAAGGACTGT...</td>\n",
       "    </tr>\n",
       "    <tr>\n",
       "      <th>3</th>\n",
       "      <td>&gt;JN544406.1 Dengue virus 1 isolate SG(EHI)D1/1...</td>\n",
       "      <td>ATGCGGTGCGTGGGAATAGGCAACAGAGACTTCGTTGAAGGACTGT...</td>\n",
       "    </tr>\n",
       "    <tr>\n",
       "      <th>4</th>\n",
       "      <td>&gt;JN544405.1 Dengue virus 1 isolate SG(EHI)D1/2...</td>\n",
       "      <td>ATGCGGTGCGTGGGAATAGGCAACAGAGACTTCGTTGAAGGACTGT...</td>\n",
       "    </tr>\n",
       "  </tbody>\n",
       "</table>\n",
       "</div>"
      ],
      "text/plain": [
       "                                         description  \\\n",
       "0  >KR919614.1 Dengue virus 1 isolate GZ2014014 e...   \n",
       "1  >KR919613.1 Dengue virus 1 isolate GZ2014013 e...   \n",
       "2  >JN544408.1 Dengue virus 1 isolate SG(EHI)D1/2...   \n",
       "3  >JN544406.1 Dengue virus 1 isolate SG(EHI)D1/1...   \n",
       "4  >JN544405.1 Dengue virus 1 isolate SG(EHI)D1/2...   \n",
       "\n",
       "                                            sequence  \n",
       "0  ATAGGCAACAGAGACTTCGTTGAAGGACTGTCAGGAGCAACATGGG...  \n",
       "1  ATAGGCAACAGAGACTTCGTGGAAGGACTGTCAGGAGCAACTTGGG...  \n",
       "2  ATGCGGTGCGTGGGAATAGGCAACAGAGACTTCGTTGAAGGACTGT...  \n",
       "3  ATGCGGTGCGTGGGAATAGGCAACAGAGACTTCGTTGAAGGACTGT...  \n",
       "4  ATGCGGTGCGTGGGAATAGGCAACAGAGACTTCGTTGAAGGACTGT...  "
      ]
     },
     "execution_count": 45,
     "metadata": {},
     "output_type": "execute_result"
    }
   ],
   "source": [
    "df.head()"
   ]
  },
  {
   "cell_type": "markdown",
   "metadata": {},
   "source": [
    "## Preprocessing labeled data"
   ]
  },
  {
   "cell_type": "markdown",
   "metadata": {},
   "source": [
    "A second approach involves processing _fasta_ files for each serotype.\n",
    "\n",
    "This time, we use the biopython module to import data from files with fasta format. "
   ]
  },
  {
   "cell_type": "code",
   "execution_count": 46,
   "metadata": {
    "collapsed": true
   },
   "outputs": [],
   "source": [
    "from Bio import SeqIO\n",
    "import pandas as pd"
   ]
  },
  {
   "cell_type": "code",
   "execution_count": 47,
   "metadata": {
    "collapsed": true
   },
   "outputs": [],
   "source": [
    "fasta_files = [['../data/datos_entrenamiento/D' + str(i) + '_protE_aligned.fasta', str(i)] for i in range(1,5)]"
   ]
  },
  {
   "cell_type": "code",
   "execution_count": 48,
   "metadata": {},
   "outputs": [
    {
     "data": {
      "text/plain": [
       "[['../data/datos_entrenamiento/D1_protE_aligned.fasta', '1'],\n",
       " ['../data/datos_entrenamiento/D2_protE_aligned.fasta', '2'],\n",
       " ['../data/datos_entrenamiento/D3_protE_aligned.fasta', '3'],\n",
       " ['../data/datos_entrenamiento/D4_protE_aligned.fasta', '4']]"
      ]
     },
     "execution_count": 48,
     "metadata": {},
     "output_type": "execute_result"
    }
   ],
   "source": [
    "fasta_files"
   ]
  },
  {
   "cell_type": "code",
   "execution_count": 49,
   "metadata": {
    "collapsed": true
   },
   "outputs": [],
   "source": [
    "def load_fasta_files(files= []):\n",
    "    '''\n",
    "    Load sequences from fasta files\n",
    "    \n",
    "    -----\n",
    "    param:\n",
    "    files list containing [path, label]\n",
    "    \n",
    "    -------\n",
    "    returns:\n",
    "    list containing [label, id, sequence]\n",
    "    '''\n",
    "    res = []\n",
    "    for f in files:\n",
    "        fasta_file = SeqIO.parse(open(f[0]), 'fasta')\n",
    "        \n",
    "        for s in fasta_file:\n",
    "            res.append([s.id, str(s.seq), f[1]])\n",
    "    \n",
    "    return res"
   ]
  },
  {
   "cell_type": "markdown",
   "metadata": {},
   "source": [
    "Let's load the data into a pandas.DataFrame"
   ]
  },
  {
   "cell_type": "code",
   "execution_count": 50,
   "metadata": {
    "collapsed": true
   },
   "outputs": [],
   "source": [
    "data = load_fasta_files(fasta_files)\n",
    "\n",
    "df = pd.DataFrame(data, columns=['id', 'sequence', 'label'])"
   ]
  },
  {
   "cell_type": "code",
   "execution_count": 51,
   "metadata": {
    "scrolled": true
   },
   "outputs": [
    {
     "data": {
      "text/plain": [
       "(10103, 3)"
      ]
     },
     "execution_count": 51,
     "metadata": {},
     "output_type": "execute_result"
    }
   ],
   "source": [
    "df.shape"
   ]
  },
  {
   "cell_type": "code",
   "execution_count": 52,
   "metadata": {
    "collapsed": true
   },
   "outputs": [],
   "source": [
    "%matplotlib inline"
   ]
  },
  {
   "cell_type": "code",
   "execution_count": 53,
   "metadata": {},
   "outputs": [
    {
     "data": {
      "text/plain": [
       "<matplotlib.axes._subplots.AxesSubplot at 0x7fc3e1dfecc0>"
      ]
     },
     "execution_count": 53,
     "metadata": {},
     "output_type": "execute_result"
    },
    {
     "data": {
      "image/png": "[encoded data removed]",
      "text/plain": [
       "<Figure size 432x288 with 1 Axes>"
      ]
     },
     "metadata": {
      "needs_background": "light"
     },
     "output_type": "display_data"
    }
   ],
   "source": [
    "df.groupby('label').count()['sequence'].plot('bar')"
   ]
  },
  {
   "cell_type": "markdown",
   "metadata": {},
   "source": [
    "As result, we have a pandas DataFrame containing the sequences labeled with a serotype number from 1 to 4."
   ]
  },
  {
   "cell_type": "markdown",
   "metadata": {},
   "source": [
    "Next step involves analysing sequences on each serotype (label)"
   ]
  },
  {
   "cell_type": "markdown",
   "metadata": {},
   "source": [
    "### Check the data "
   ]
  },
  {
   "cell_type": "code",
   "execution_count": 54,
   "metadata": {},
   "outputs": [
    {
     "data": {
      "text/plain": [
       "(10103, 3)"
      ]
     },
     "execution_count": 54,
     "metadata": {},
     "output_type": "execute_result"
    }
   ],
   "source": [
    "df.shape"
   ]
  },
  {
   "cell_type": "code",
   "execution_count": 55,
   "metadata": {
    "collapsed": true
   },
   "outputs": [],
   "source": [
    "df_d1 = df[df['label'] == '1']"
   ]
  },
  {
   "cell_type": "code",
   "execution_count": 56,
   "metadata": {
    "scrolled": true
   },
   "outputs": [
    {
     "name": "stderr",
     "output_type": "stream",
     "text": [
      "/home/zamu/.virtualenvs/dengue/lib/python3.5/site-packages/pandas/core/frame.py:3940: SettingWithCopyWarning: \n",
      "A value is trying to be set on a copy of a slice from a DataFrame\n",
      "\n",
      "See the caveats in the documentation: http://pandas.pydata.org/pandas-docs/stable/indexing.html#indexing-view-versus-copy\n",
      "  errors=errors)\n"
     ]
    }
   ],
   "source": [
    "df_d1.drop('label', axis=1,inplace=True)"
   ]
  },
  {
   "cell_type": "markdown",
   "metadata": {},
   "source": [
    "Assert that lenghts are all the same for every sequence"
   ]
  },
  {
   "cell_type": "code",
   "execution_count": 57,
   "metadata": {
    "collapsed": true
   },
   "outputs": [],
   "source": [
    "lenghts = []\n",
    "\n",
    "for s in df_d1['sequence']:\n",
    "    lenghts.append(len(s))"
   ]
  },
  {
   "cell_type": "code",
   "execution_count": 58,
   "metadata": {},
   "outputs": [
    {
     "data": {
      "text/plain": [
       "count    4805.0\n",
       "mean     1898.0\n",
       "std         0.0\n",
       "min      1898.0\n",
       "25%      1898.0\n",
       "50%      1898.0\n",
       "75%      1898.0\n",
       "max      1898.0\n",
       "dtype: float64"
      ]
     },
     "execution_count": 58,
     "metadata": {},
     "output_type": "execute_result"
    }
   ],
   "source": [
    "pd.Series(lenghts).describe()"
   ]
  },
  {
   "cell_type": "code",
   "execution_count": 59,
   "metadata": {
    "collapsed": true
   },
   "outputs": [],
   "source": [
    "lenghts = []\n",
    "\n",
    "for s in df['sequence']:\n",
    "    lenghts.append(len(s))"
   ]
  },
  {
   "cell_type": "code",
   "execution_count": 60,
   "metadata": {},
   "outputs": [
    {
     "data": {
      "text/plain": [
       "count    10103.0\n",
       "mean      1898.0\n",
       "std          0.0\n",
       "min       1898.0\n",
       "25%       1898.0\n",
       "50%       1898.0\n",
       "75%       1898.0\n",
       "max       1898.0\n",
       "dtype: float64"
      ]
     },
     "execution_count": 60,
     "metadata": {},
     "output_type": "execute_result"
    }
   ],
   "source": [
    "pd.Series(lenghts).describe()"
   ]
  },
  {
   "cell_type": "markdown",
   "metadata": {},
   "source": [
    "## Feature extraction"
   ]
  },
  {
   "cell_type": "markdown",
   "metadata": {},
   "source": [
    "So, sequences are 1898 lenght. Since every nucleotide in the sequence can have 5 (five) possible values (-, A, C, T, G), we should enconde this values in a processable way. The negative (__-__) simbol means absense of data for that nucleotide.\n",
    "\n",
    "The proposed strategy is:\n",
    "1. Split the sequence in nucleotide positions\n",
    "2. Encode every nucleotide position in new variables\n",
    "\n",
    "The resulting dataset should have 9490 features (1898 nucleotides * 5 posible values). Actually we expect to be less than 9490 since there may be features with no variability."
   ]
  },
  {
   "cell_type": "code",
   "execution_count": 61,
   "metadata": {},
   "outputs": [
    {
     "data": {
      "text/plain": [
       "(10103,)"
      ]
     },
     "execution_count": 61,
     "metadata": {},
     "output_type": "execute_result"
    }
   ],
   "source": [
    "df['sequence'].shape"
   ]
  },
  {
   "cell_type": "markdown",
   "metadata": {},
   "source": [
    "First, lets define a function that help us the split task"
   ]
  },
  {
   "cell_type": "code",
   "execution_count": 115,
   "metadata": {
    "collapsed": true
   },
   "outputs": [],
   "source": [
    "def insert_separator(s, sep = ','):\n",
    "    '''\n",
    "    Insert the separator sep between every character in string s\n",
    "    \n",
    "    ------\n",
    "    param: s\n",
    "    string\n",
    "    \n",
    "    ------\n",
    "    param: sep\n",
    "    separetor to insert between characters (default = ',')\n",
    "    \n",
    "    -------\n",
    "    returns\n",
    "    string\n",
    "    \n",
    "    ------\n",
    "    e.g.\n",
    "    s = 'abcde'\n",
    "    insert_separator(s)\n",
    "    \n",
    "    output: 'a,b,c,d,e'\n",
    "    \n",
    "    '''\n",
    "    if (s.__class__ is not str):\n",
    "        return s\n",
    "    \n",
    "    res = None   \n",
    "    lenght = len(s)\n",
    "    \n",
    "    if lenght <= 1:\n",
    "        res = s\n",
    "    else:\n",
    "        half = lenght // 2\n",
    "        res = split_by_1(s[:half]) + sep + split_by_1(s[half:])\n",
    "    return res"
   ]
  },
  {
   "cell_type": "code",
   "execution_count": 116,
   "metadata": {
    "collapsed": true
   },
   "outputs": [],
   "source": [
    "result = {}\n",
    "\n",
    "for idx, data in df['sequence'].iteritems():\n",
    "    #splitted_string = []\n",
    "    #for i in data:\n",
    "    #    splitted_string.append(i)\n",
    "    splitted_string = insert_separator(data).split(',')\n",
    "        \n",
    "    result[idx] = splitted_string"
   ]
  },
  {
   "cell_type": "code",
   "execution_count": 117,
   "metadata": {
    "collapsed": true
   },
   "outputs": [],
   "source": [
    "df_sequences = pd.DataFrame.from_dict(result, orient='index')"
   ]
  },
  {
   "cell_type": "code",
   "execution_count": 118,
   "metadata": {
    "collapsed": true
   },
   "outputs": [],
   "source": [
    "assert(len(result) == df_sequences.shape[0]) #4805"
   ]
  },
  {
   "cell_type": "code",
   "execution_count": 119,
   "metadata": {},
   "outputs": [
    {
     "data": {
      "text/plain": [
       "(10103, 1898)"
      ]
     },
     "execution_count": 119,
     "metadata": {},
     "output_type": "execute_result"
    }
   ],
   "source": [
    "df_sequences.shape"
   ]
  },
  {
   "cell_type": "code",
   "execution_count": 66,
   "metadata": {
    "scrolled": true
   },
   "outputs": [
    {
     "data": {
      "text/html": [
       "<div>\n",
       "<style scoped>\n",
       "    .dataframe tbody tr th:only-of-type {\n",
       "        vertical-align: middle;\n",
       "    }\n",
       "\n",
       "    .dataframe tbody tr th {\n",
       "        vertical-align: top;\n",
       "    }\n",
       "\n",
       "    .dataframe thead th {\n",
       "        text-align: right;\n",
       "    }\n",
       "</style>\n",
       "<table border=\"1\" class=\"dataframe\">\n",
       "  <thead>\n",
       "    <tr style=\"text-align: right;\">\n",
       "      <th></th>\n",
       "      <th>0</th>\n",
       "      <th>1</th>\n",
       "      <th>2</th>\n",
       "      <th>3</th>\n",
       "      <th>4</th>\n",
       "      <th>5</th>\n",
       "      <th>6</th>\n",
       "      <th>7</th>\n",
       "      <th>8</th>\n",
       "      <th>9</th>\n",
       "      <th>...</th>\n",
       "      <th>1888</th>\n",
       "      <th>1889</th>\n",
       "      <th>1890</th>\n",
       "      <th>1891</th>\n",
       "      <th>1892</th>\n",
       "      <th>1893</th>\n",
       "      <th>1894</th>\n",
       "      <th>1895</th>\n",
       "      <th>1896</th>\n",
       "      <th>1897</th>\n",
       "    </tr>\n",
       "  </thead>\n",
       "  <tbody>\n",
       "    <tr>\n",
       "      <th>0</th>\n",
       "      <td>-</td>\n",
       "      <td>-</td>\n",
       "      <td>-</td>\n",
       "      <td>-</td>\n",
       "      <td>-</td>\n",
       "      <td>-</td>\n",
       "      <td>-</td>\n",
       "      <td>-</td>\n",
       "      <td>-</td>\n",
       "      <td>-</td>\n",
       "      <td>...</td>\n",
       "      <td>-</td>\n",
       "      <td>-</td>\n",
       "      <td>-</td>\n",
       "      <td>-</td>\n",
       "      <td>-</td>\n",
       "      <td>-</td>\n",
       "      <td>-</td>\n",
       "      <td>-</td>\n",
       "      <td>-</td>\n",
       "      <td>-</td>\n",
       "    </tr>\n",
       "    <tr>\n",
       "      <th>1</th>\n",
       "      <td>-</td>\n",
       "      <td>-</td>\n",
       "      <td>-</td>\n",
       "      <td>-</td>\n",
       "      <td>-</td>\n",
       "      <td>-</td>\n",
       "      <td>-</td>\n",
       "      <td>-</td>\n",
       "      <td>-</td>\n",
       "      <td>-</td>\n",
       "      <td>...</td>\n",
       "      <td>-</td>\n",
       "      <td>-</td>\n",
       "      <td>-</td>\n",
       "      <td>-</td>\n",
       "      <td>-</td>\n",
       "      <td>-</td>\n",
       "      <td>-</td>\n",
       "      <td>-</td>\n",
       "      <td>-</td>\n",
       "      <td>-</td>\n",
       "    </tr>\n",
       "    <tr>\n",
       "      <th>2</th>\n",
       "      <td>-</td>\n",
       "      <td>-</td>\n",
       "      <td>-</td>\n",
       "      <td>-</td>\n",
       "      <td>-</td>\n",
       "      <td>-</td>\n",
       "      <td>-</td>\n",
       "      <td>-</td>\n",
       "      <td>-</td>\n",
       "      <td>-</td>\n",
       "      <td>...</td>\n",
       "      <td>-</td>\n",
       "      <td>-</td>\n",
       "      <td>-</td>\n",
       "      <td>-</td>\n",
       "      <td>-</td>\n",
       "      <td>-</td>\n",
       "      <td>-</td>\n",
       "      <td>-</td>\n",
       "      <td>-</td>\n",
       "      <td>-</td>\n",
       "    </tr>\n",
       "    <tr>\n",
       "      <th>3</th>\n",
       "      <td>-</td>\n",
       "      <td>-</td>\n",
       "      <td>-</td>\n",
       "      <td>-</td>\n",
       "      <td>-</td>\n",
       "      <td>-</td>\n",
       "      <td>-</td>\n",
       "      <td>-</td>\n",
       "      <td>-</td>\n",
       "      <td>-</td>\n",
       "      <td>...</td>\n",
       "      <td>-</td>\n",
       "      <td>-</td>\n",
       "      <td>-</td>\n",
       "      <td>-</td>\n",
       "      <td>-</td>\n",
       "      <td>-</td>\n",
       "      <td>-</td>\n",
       "      <td>-</td>\n",
       "      <td>-</td>\n",
       "      <td>-</td>\n",
       "    </tr>\n",
       "    <tr>\n",
       "      <th>4</th>\n",
       "      <td>-</td>\n",
       "      <td>-</td>\n",
       "      <td>-</td>\n",
       "      <td>-</td>\n",
       "      <td>-</td>\n",
       "      <td>-</td>\n",
       "      <td>-</td>\n",
       "      <td>-</td>\n",
       "      <td>-</td>\n",
       "      <td>-</td>\n",
       "      <td>...</td>\n",
       "      <td>-</td>\n",
       "      <td>-</td>\n",
       "      <td>-</td>\n",
       "      <td>-</td>\n",
       "      <td>-</td>\n",
       "      <td>-</td>\n",
       "      <td>-</td>\n",
       "      <td>-</td>\n",
       "      <td>-</td>\n",
       "      <td>-</td>\n",
       "    </tr>\n",
       "  </tbody>\n",
       "</table>\n",
       "<p>5 rows × 1898 columns</p>\n",
       "</div>"
      ],
      "text/plain": [
       "  0    1    2    3    4    5    6    7    8    9     ... 1888 1889 1890 1891  \\\n",
       "0    -    -    -    -    -    -    -    -    -    -  ...    -    -    -    -   \n",
       "1    -    -    -    -    -    -    -    -    -    -  ...    -    -    -    -   \n",
       "2    -    -    -    -    -    -    -    -    -    -  ...    -    -    -    -   \n",
       "3    -    -    -    -    -    -    -    -    -    -  ...    -    -    -    -   \n",
       "4    -    -    -    -    -    -    -    -    -    -  ...    -    -    -    -   \n",
       "\n",
       "  1892 1893 1894 1895 1896 1897  \n",
       "0    -    -    -    -    -    -  \n",
       "1    -    -    -    -    -    -  \n",
       "2    -    -    -    -    -    -  \n",
       "3    -    -    -    -    -    -  \n",
       "4    -    -    -    -    -    -  \n",
       "\n",
       "[5 rows x 1898 columns]"
      ]
     },
     "execution_count": 66,
     "metadata": {},
     "output_type": "execute_result"
    }
   ],
   "source": [
    "df_sequences.head()"
   ]
  },
  {
   "cell_type": "code",
   "execution_count": 67,
   "metadata": {
    "collapsed": true
   },
   "outputs": [],
   "source": [
    "from sklearn.preprocessing import OneHotEncoder"
   ]
  },
  {
   "cell_type": "code",
   "execution_count": 68,
   "metadata": {},
   "outputs": [],
   "source": [
    "enc = OneHotEncoder() #(['n', 'a', 'c', 't', 'g'])\n",
    "\n",
    "#df_sequences_dummies = df_sequences.replace('-', 'n')\n",
    "df_sequences_dummies = enc.fit_transform(df_sequences)"
   ]
  },
  {
   "cell_type": "code",
   "execution_count": 69,
   "metadata": {
    "scrolled": true
   },
   "outputs": [
    {
     "data": {
      "text/plain": [
       "(10103, 7439)"
      ]
     },
     "execution_count": 69,
     "metadata": {},
     "output_type": "execute_result"
    }
   ],
   "source": [
    "df_sequences_dummies.shape"
   ]
  },
  {
   "cell_type": "markdown",
   "metadata": {},
   "source": [
    "We can take a look at the feature names."
   ]
  },
  {
   "cell_type": "code",
   "execution_count": 70,
   "metadata": {},
   "outputs": [
    {
     "data": {
      "text/plain": [
       "array(['x0_-', 'x0_g', 'x1_-', ..., 'x1896_c', 'x1897_-', 'x1897_c'],\n",
       "      dtype=object)"
      ]
     },
     "execution_count": 70,
     "metadata": {},
     "output_type": "execute_result"
    }
   ],
   "source": [
    "enc.get_feature_names()"
   ]
  },
  {
   "cell_type": "markdown",
   "metadata": {},
   "source": [
    "## Feature selection"
   ]
  },
  {
   "cell_type": "markdown",
   "metadata": {},
   "source": [
    "Let's remove features with zero variance using scikit learn"
   ]
  },
  {
   "cell_type": "code",
   "execution_count": 71,
   "metadata": {
    "collapsed": true
   },
   "outputs": [],
   "source": [
    "from sklearn.feature_selection import VarianceThreshold"
   ]
  },
  {
   "cell_type": "code",
   "execution_count": 72,
   "metadata": {
    "collapsed": true
   },
   "outputs": [],
   "source": [
    "sel = VarianceThreshold()"
   ]
  },
  {
   "cell_type": "code",
   "execution_count": 73,
   "metadata": {},
   "outputs": [],
   "source": [
    "sequences_reduced = sel.fit_transform(df_sequences_dummies)"
   ]
  },
  {
   "cell_type": "code",
   "execution_count": 74,
   "metadata": {},
   "outputs": [
    {
     "data": {
      "text/plain": [
       "(10103, 7435)"
      ]
     },
     "execution_count": 74,
     "metadata": {},
     "output_type": "execute_result"
    }
   ],
   "source": [
    "sequences_reduced.shape"
   ]
  },
  {
   "cell_type": "code",
   "execution_count": 75,
   "metadata": {},
   "outputs": [
    {
     "data": {
      "text/plain": [
       "(7439,)"
      ]
     },
     "execution_count": 75,
     "metadata": {},
     "output_type": "execute_result"
    }
   ],
   "source": [
    "sel.get_support().shape"
   ]
  },
  {
   "cell_type": "markdown",
   "metadata": {},
   "source": [
    "By removing features with zero variability, we demonstrate that there is no significant dimensionality reduction. Only 4 of the 7439 present zero variability."
   ]
  }
 ],
 "metadata": {
  "kernelspec": {
   "display_name": "dengue",
   "language": "python",
   "name": "dengue"
  },
  "language_info": {
   "codemirror_mode": {
    "name": "ipython",
    "version": 3
   },
   "file_extension": ".py",
   "mimetype": "text/x-python",
   "name": "python",
   "nbconvert_exporter": "python",
   "pygments_lexer": "ipython3",
   "version": "3.5.2"
  }
 },
 "nbformat": 4,
 "nbformat_minor": 2
}
